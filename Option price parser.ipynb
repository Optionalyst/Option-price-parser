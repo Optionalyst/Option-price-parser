{
 "cells": [
  {
   "cell_type": "code",
   "execution_count": 2,
   "metadata": {},
   "outputs": [],
   "source": [
    "import os\n",
    "import pandas as pd\n",
    "import urllib.request\n",
    "import base64\n",
    "import csv\n",
    "import numpy as np"
   ]
  },
  {
   "cell_type": "code",
   "execution_count": 9,
   "metadata": {},
   "outputs": [],
   "source": [
    "Ticker_base_asset=['MX', 'MM', 'RI', 'AF', 'AL', 'CH', 'FS', 'GZ', 'GM', 'HY', 'LK', 'MN', 'ME', 'MT', 'NM',\n",
    "                  'NK', 'RN', 'RT', 'SP', 'SR', 'SG', 'SN', 'TT', 'TN', 'VB', 'MG', 'PZ']"
   ]
  },
  {
   "cell_type": "code",
   "execution_count": 10,
   "metadata": {},
   "outputs": [],
   "source": [
    "#Order must be as tickers and 1=step, 2=low, 3=high\n",
    "Strikes = [[5000,160000,370000],[50,1700,3700],[2500,27500,230000],[250,6750,14250], [250,250,15500],\n",
    "           [1000,75000,124000], [250, 12000,23750], [250,6500,34750], [500,62500,305000], [250,1750,9500],\n",
    "           [500,20500,80000], [250,250,7500], [250,5250, 14250], [500,17000,37500], [250,9750,21500],\n",
    "           [1000,92000,153000], [500,24500,212500], [250,4000,11750], [250,12250,26000], [250,11000,38000],\n",
    "           [1000,19000,54000], [500,17000,59500], [1000,55000,95000], [500,55000,215000], [250,250,11000],\n",
    "           [500,28000,53500], [500,42000,86500]]"
   ]
  },
  {
   "cell_type": "code",
   "execution_count": 11,
   "metadata": {},
   "outputs": [],
   "source": [
    "#Expiration month"
   ]
  },
  {
   "cell_type": "code",
   "execution_count": 12,
   "metadata": {},
   "outputs": [],
   "source": [
    "Month_OPT = ['A', 'B', 'C', 'D', 'E', 'F', 'G', 'H', 'I', 'J', 'K', 'L', 'M', 'N', 'O', 'P', 'Q', 'R', 'S',\n",
    "            'T', 'U', 'V', 'W', 'X']"
   ]
  },
  {
   "cell_type": "code",
   "execution_count": 13,
   "metadata": {},
   "outputs": [],
   "source": [
    "Month_FUT = ['H', 'M', 'U', 'Z']"
   ]
  },
  {
   "cell_type": "code",
   "execution_count": null,
   "metadata": {},
   "outputs": [],
   "source": [
    "Ticker=pd.DataFrame(columns =['Ticker', 'open', 'close', 'high', 'low', 'value', 'volume', 'begin', 'end'])\n",
    "for i in range(len(Ticker_base_asset)):\n",
    "    Month=pd.DataFrame(columns =['Ticker', 'open', 'close', 'high', 'low', 'value', 'volume', 'begin', 'end'])\n",
    "    for j in range(len(Month_OPT)):\n",
    "        data=pd.DataFrame(columns =['Ticker', 'open', 'close', 'high', 'low', 'value', 'volume', 'begin', 'end'])\n",
    "        for h in range(Strikes[i][1], Strikes[i][2]+1, Strikes[i][0]):\n",
    "            url=f'https://iss.moex.com/iss/engines/futures/markets/options/\\\n",
    "securities/{Ticker_base_asset[i]}{h}B{Month_OPT[j]}9/candles.csv?from=\\\n",
    "2019-01-01&till=2020-01-01&interval=24&iss.meta=on'\n",
    "            data1=pd.DataFrame(pd.read_csv(url, sep=\";\", skiprows=2))\n",
    "            try:\n",
    "                if pd.isnull(data1['open'][0]):\n",
    "                    pass\n",
    "                else:\n",
    "                    data1.columns.name = 'Ticker'\n",
    "                    data1['Ticker']=f'{Ticker_base_asset[i]}{h}B{Month_OPT[j]}9'\n",
    "            except Exception:\n",
    "                pass\n",
    "            \n",
    "            data=data.append(data1, ignore_index=True, sort=False)\n",
    "            \n",
    "        Month=Month.append(data, ignore_index=True, sort=False)\n",
    "    Month.to_csv(f'{Ticker_base_asset[i]}9.csv')\n"
   ]
  },
  {
   "cell_type": "code",
   "execution_count": null,
   "metadata": {},
   "outputs": [],
   "source": []
  }
 ],
 "metadata": {
  "kernelspec": {
   "display_name": "Python 3",
   "language": "python",
   "name": "python3"
  },
  "language_info": {
   "codemirror_mode": {
    "name": "ipython",
    "version": 3
   },
   "file_extension": ".py",
   "mimetype": "text/x-python",
   "name": "python",
   "nbconvert_exporter": "python",
   "pygments_lexer": "ipython3",
   "version": "3.6.9"
  }
 },
 "nbformat": 4,
 "nbformat_minor": 2
}
